{
 "cells": [
  {
   "cell_type": "code",
   "execution_count": 1,
   "metadata": {},
   "outputs": [],
   "source": [
    "import glob\n",
    "\n",
    "root = '/home/lscsc/caizhijie/0420-wamera-benchmark/data'\n",
    "\n",
    "csi = glob.glob(root + '/*/35*/*/*.dat')\n",
    "pic = glob.glob(root + '/*/falldewideo*/t*')"
   ]
  },
  {
   "cell_type": "code",
   "execution_count": 5,
   "metadata": {},
   "outputs": [
    {
     "ename": "UFuncTypeError",
     "evalue": "ufunc 'add' did not contain a loop with signature matching types (dtype('float64'), dtype('<U1')) -> None",
     "output_type": "error",
     "traceback": [
      "\u001b[0;31m---------------------------------------------------------------------------\u001b[0m",
      "\u001b[0;31mUFuncTypeError\u001b[0m                            Traceback (most recent call last)",
      "Cell \u001b[0;32mIn[5], line 37\u001b[0m\n\u001b[1;32m     34\u001b[0m csidf[\u001b[39m'\u001b[39m\u001b[39msite\u001b[39m\u001b[39m'\u001b[39m] \u001b[39m=\u001b[39m csidf[\u001b[39m'\u001b[39m\u001b[39mcsi\u001b[39m\u001b[39m'\u001b[39m]\u001b[39m.\u001b[39mapply(\u001b[39mlambda\u001b[39;00m x: \u001b[39mstr\u001b[39m(x\u001b[39m.\u001b[39msplit(\u001b[39m'\u001b[39m\u001b[39m/\u001b[39m\u001b[39m'\u001b[39m)[\u001b[39m-\u001b[39m\u001b[39m4\u001b[39m]\u001b[39m.\u001b[39msplit(\u001b[39m'\u001b[39m\u001b[39m_\u001b[39m\u001b[39m'\u001b[39m)[\u001b[39m1\u001b[39m]))\n\u001b[1;32m     35\u001b[0m csidf[\u001b[39m'\u001b[39m\u001b[39mdir\u001b[39m\u001b[39m'\u001b[39m] \u001b[39m=\u001b[39m csidf[\u001b[39m'\u001b[39m\u001b[39mcsi\u001b[39m\u001b[39m'\u001b[39m]\u001b[39m.\u001b[39mapply(\u001b[39mlambda\u001b[39;00m x: \u001b[39mstr\u001b[39m(x\u001b[39m.\u001b[39msplit(\u001b[39m'\u001b[39m\u001b[39m/\u001b[39m\u001b[39m'\u001b[39m)[\u001b[39m-\u001b[39m\u001b[39m4\u001b[39m][\u001b[39m9\u001b[39m:]))\n\u001b[0;32m---> 37\u001b[0m csidf[\u001b[39m'\u001b[39m\u001b[39mkey\u001b[39m\u001b[39m'\u001b[39m] \u001b[39m=\u001b[39m csidf[\u001b[39m'\u001b[39;49m\u001b[39mdir\u001b[39;49m\u001b[39m'\u001b[39;49m] \u001b[39m+\u001b[39;49m \u001b[39m'\u001b[39;49m\u001b[39m_\u001b[39;49m\u001b[39m'\u001b[39;49m \u001b[39m+\u001b[39m csidf[\u001b[39m'\u001b[39m\u001b[39mdb\u001b[39m\u001b[39m'\u001b[39m] \u001b[39m+\u001b[39m \u001b[39m'\u001b[39m\u001b[39m_\u001b[39m\u001b[39m'\u001b[39m \u001b[39m+\u001b[39m csidf[\u001b[39m'\u001b[39m\u001b[39mmove\u001b[39m\u001b[39m'\u001b[39m] \u001b[39m+\u001b[39m \u001b[39m'\u001b[39m\u001b[39m_\u001b[39m\u001b[39m'\u001b[39m \u001b[39m+\u001b[39m csidf[\u001b[39m'\u001b[39m\u001b[39mobj\u001b[39m\u001b[39m'\u001b[39m] \u001b[39m+\u001b[39m \u001b[39m'\u001b[39m\u001b[39m_\u001b[39m\u001b[39m'\u001b[39m \u001b[39m+\u001b[39m csidf[\u001b[39m'\u001b[39m\u001b[39mlight\u001b[39m\u001b[39m'\u001b[39m] \u001b[39m+\u001b[39m \u001b[39m'\u001b[39m\u001b[39m_\u001b[39m\u001b[39m'\u001b[39m \u001b[39m+\u001b[39m csidf[\u001b[39m'\u001b[39m\u001b[39mangle\u001b[39m\u001b[39m'\u001b[39m] \u001b[39m+\u001b[39m \u001b[39m'\u001b[39m\u001b[39m_\u001b[39m\u001b[39m'\u001b[39m \u001b[39m+\u001b[39m csidf[\u001b[39m'\u001b[39m\u001b[39msite\u001b[39m\u001b[39m'\u001b[39m]\n\u001b[1;32m     39\u001b[0m \u001b[39mimport\u001b[39;00m \u001b[39mos\u001b[39;00m\n\u001b[1;32m     40\u001b[0m csidf[\u001b[39m'\u001b[39m\u001b[39msize\u001b[39m\u001b[39m'\u001b[39m] \u001b[39m=\u001b[39m csidf[\u001b[39m'\u001b[39m\u001b[39mcsiori\u001b[39m\u001b[39m'\u001b[39m]\u001b[39m.\u001b[39mapply(\u001b[39mlambda\u001b[39;00m x: os\u001b[39m.\u001b[39mpath\u001b[39m.\u001b[39mgetsize(x))\n",
      "File \u001b[0;32m~/miniconda3/envs/falldewideo/lib/python3.9/site-packages/pandas/core/ops/common.py:81\u001b[0m, in \u001b[0;36m_unpack_zerodim_and_defer.<locals>.new_method\u001b[0;34m(self, other)\u001b[0m\n\u001b[1;32m     77\u001b[0m             \u001b[39mreturn\u001b[39;00m \u001b[39mNotImplemented\u001b[39m\n\u001b[1;32m     79\u001b[0m other \u001b[39m=\u001b[39m item_from_zerodim(other)\n\u001b[0;32m---> 81\u001b[0m \u001b[39mreturn\u001b[39;00m method(\u001b[39mself\u001b[39;49m, other)\n",
      "File \u001b[0;32m~/miniconda3/envs/falldewideo/lib/python3.9/site-packages/pandas/core/arraylike.py:186\u001b[0m, in \u001b[0;36mOpsMixin.__add__\u001b[0;34m(self, other)\u001b[0m\n\u001b[1;32m     98\u001b[0m \u001b[39m@unpack_zerodim_and_defer\u001b[39m(\u001b[39m\"\u001b[39m\u001b[39m__add__\u001b[39m\u001b[39m\"\u001b[39m)\n\u001b[1;32m     99\u001b[0m \u001b[39mdef\u001b[39;00m \u001b[39m__add__\u001b[39m(\u001b[39mself\u001b[39m, other):\n\u001b[1;32m    100\u001b[0m \u001b[39m    \u001b[39m\u001b[39m\"\"\"\u001b[39;00m\n\u001b[1;32m    101\u001b[0m \u001b[39m    Get Addition of DataFrame and other, column-wise.\u001b[39;00m\n\u001b[1;32m    102\u001b[0m \n\u001b[0;32m   (...)\u001b[0m\n\u001b[1;32m    184\u001b[0m \u001b[39m    moose     3.0     NaN\u001b[39;00m\n\u001b[1;32m    185\u001b[0m \u001b[39m    \"\"\"\u001b[39;00m\n\u001b[0;32m--> 186\u001b[0m     \u001b[39mreturn\u001b[39;00m \u001b[39mself\u001b[39;49m\u001b[39m.\u001b[39;49m_arith_method(other, operator\u001b[39m.\u001b[39;49madd)\n",
      "File \u001b[0;32m~/miniconda3/envs/falldewideo/lib/python3.9/site-packages/pandas/core/series.py:6112\u001b[0m, in \u001b[0;36mSeries._arith_method\u001b[0;34m(self, other, op)\u001b[0m\n\u001b[1;32m   6110\u001b[0m \u001b[39mdef\u001b[39;00m \u001b[39m_arith_method\u001b[39m(\u001b[39mself\u001b[39m, other, op):\n\u001b[1;32m   6111\u001b[0m     \u001b[39mself\u001b[39m, other \u001b[39m=\u001b[39m ops\u001b[39m.\u001b[39malign_method_SERIES(\u001b[39mself\u001b[39m, other)\n\u001b[0;32m-> 6112\u001b[0m     \u001b[39mreturn\u001b[39;00m base\u001b[39m.\u001b[39;49mIndexOpsMixin\u001b[39m.\u001b[39;49m_arith_method(\u001b[39mself\u001b[39;49m, other, op)\n",
      "File \u001b[0;32m~/miniconda3/envs/falldewideo/lib/python3.9/site-packages/pandas/core/base.py:1348\u001b[0m, in \u001b[0;36mIndexOpsMixin._arith_method\u001b[0;34m(self, other, op)\u001b[0m\n\u001b[1;32m   1345\u001b[0m rvalues \u001b[39m=\u001b[39m ensure_wrapped_if_datetimelike(rvalues)\n\u001b[1;32m   1347\u001b[0m \u001b[39mwith\u001b[39;00m np\u001b[39m.\u001b[39merrstate(\u001b[39mall\u001b[39m\u001b[39m=\u001b[39m\u001b[39m\"\u001b[39m\u001b[39mignore\u001b[39m\u001b[39m\"\u001b[39m):\n\u001b[0;32m-> 1348\u001b[0m     result \u001b[39m=\u001b[39m ops\u001b[39m.\u001b[39;49marithmetic_op(lvalues, rvalues, op)\n\u001b[1;32m   1350\u001b[0m \u001b[39mreturn\u001b[39;00m \u001b[39mself\u001b[39m\u001b[39m.\u001b[39m_construct_result(result, name\u001b[39m=\u001b[39mres_name)\n",
      "File \u001b[0;32m~/miniconda3/envs/falldewideo/lib/python3.9/site-packages/pandas/core/ops/array_ops.py:232\u001b[0m, in \u001b[0;36marithmetic_op\u001b[0;34m(left, right, op)\u001b[0m\n\u001b[1;32m    228\u001b[0m     _bool_arith_check(op, left, right)\n\u001b[1;32m    230\u001b[0m     \u001b[39m# error: Argument 1 to \"_na_arithmetic_op\" has incompatible type\u001b[39;00m\n\u001b[1;32m    231\u001b[0m     \u001b[39m# \"Union[ExtensionArray, ndarray[Any, Any]]\"; expected \"ndarray[Any, Any]\"\u001b[39;00m\n\u001b[0;32m--> 232\u001b[0m     res_values \u001b[39m=\u001b[39m _na_arithmetic_op(left, right, op)  \u001b[39m# type: ignore[arg-type]\u001b[39;00m\n\u001b[1;32m    234\u001b[0m \u001b[39mreturn\u001b[39;00m res_values\n",
      "File \u001b[0;32m~/miniconda3/envs/falldewideo/lib/python3.9/site-packages/pandas/core/ops/array_ops.py:171\u001b[0m, in \u001b[0;36m_na_arithmetic_op\u001b[0;34m(left, right, op, is_cmp)\u001b[0m\n\u001b[1;32m    168\u001b[0m     func \u001b[39m=\u001b[39m partial(expressions\u001b[39m.\u001b[39mevaluate, op)\n\u001b[1;32m    170\u001b[0m \u001b[39mtry\u001b[39;00m:\n\u001b[0;32m--> 171\u001b[0m     result \u001b[39m=\u001b[39m func(left, right)\n\u001b[1;32m    172\u001b[0m \u001b[39mexcept\u001b[39;00m \u001b[39mTypeError\u001b[39;00m:\n\u001b[1;32m    173\u001b[0m     \u001b[39mif\u001b[39;00m \u001b[39mnot\u001b[39;00m is_cmp \u001b[39mand\u001b[39;00m (is_object_dtype(left\u001b[39m.\u001b[39mdtype) \u001b[39mor\u001b[39;00m is_object_dtype(right)):\n\u001b[1;32m    174\u001b[0m         \u001b[39m# For object dtype, fallback to a masked operation (only operating\u001b[39;00m\n\u001b[1;32m    175\u001b[0m         \u001b[39m#  on the non-missing values)\u001b[39;00m\n\u001b[1;32m    176\u001b[0m         \u001b[39m# Don't do this for comparisons, as that will handle complex numbers\u001b[39;00m\n\u001b[1;32m    177\u001b[0m         \u001b[39m#  incorrectly, see GH#32047\u001b[39;00m\n",
      "\u001b[0;31mUFuncTypeError\u001b[0m: ufunc 'add' did not contain a loop with signature matching types (dtype('float64'), dtype('<U1')) -> None"
     ]
    }
   ],
   "source": [
    "import pandas as pd\n",
    "\n",
    "picdf = pd.DataFrame.from_dict({'pic': pic})\n",
    "csidf = pd.DataFrame.from_dict({'csi': csi})\n",
    "\n",
    "import datetime\n",
    "csidf['time'] = csidf['csi'].apply(lambda x: x[-27:])\n",
    "csidf.sort_values('time', ignore_index=True, inplace=True)\n",
    "\n",
    "csidf['timestamp'] = csidf['time'].apply(lambda x: datetime.datetime.strptime(x[:-4], '%Y_%m_%d_%H_%M_%S_%f').timestamp())\n",
    "\n",
    "csidf['time'] = csidf['csi'].apply(lambda x: x[-27:])\n",
    "csidf.sort_values('time', ignore_index=True, inplace=True)\n",
    "\n",
    "csidf['timestamp'] = csidf['time'].apply(lambda x: datetime.datetime.strptime(x[:-4], '%Y_%m_%d_%H_%M_%S_%f').timestamp())\n",
    "\n",
    "csidf['csiori'] = csidf['csi'].copy()\n",
    "\n",
    "# mistakenly record falldewideo1_mfy_a1_fall as falldewideo_test_a1_test\n",
    "csidf.loc[csidf['csi'].apply(lambda x: (x.__contains__('35_falldewideo_fall_test_lights_1000_')) & (x.__contains__('20230612'))), 'csi'] = csidf.loc[csidf['csi'].apply(lambda x: (x.__contains__('35_falldewideo_fall_test_lights_1000_')) & (x.__contains__('20230612'))), 'csi'].apply(lambda x: x.replace('35_falldewideo_fall_test_lights_1000_', '35_falldewideo1_fall_mfy_lights_1000_'))\n",
    "\n",
    "# mistakenly record falldewideo1 as falldewideo\n",
    "csidf.loc[csidf['csi'].apply(lambda x: (x.__contains__('20230612'))), 'csi'] = csidf.loc[csidf['csi'].apply(lambda x: (x.__contains__('20230612'))), 'csi'].apply(lambda x: x.replace('falldewideo_', 'falldewideo1_'))\n",
    "\n",
    "# keys unmatched\n",
    "csidf['csi'] = csidf['csi'].apply(lambda x: str(x.replace('falldewideo_1', 'falldewideo1')))\n",
    "\n",
    "csidf['db'] = csidf['csi'].apply(lambda x: str(x.split('/')[-3].split('_')[1]))\n",
    "csidf['move'] = csidf['csi'].apply(lambda x: str(x.split('/')[-3].split('_')[2]))\n",
    "csidf['obj'] = csidf['csi'].apply(lambda x: str(x.split('/')[-3].split('_')[3]))\n",
    "csidf['light'] = csidf['csi'].apply(lambda x: str(x.split('/')[-3].split('_')[4]))\n",
    "csidf['angle'] = csidf['csi'].apply(lambda x: str(x.split('/')[-3].split('_')[-2]))\n",
    "csidf['time'] = csidf['csi'].apply(lambda x: str(x.split('/')[-1].split('.')[0][3:]))\n",
    "csidf['site'] = csidf['csi'].apply(lambda x: str(x.split('/')[-4].split('_')[1]))\n",
    "csidf['dir'] = csidf['csi'].apply(lambda x: str(x.split('/')[-4][9:]))\n",
    "\n",
    "csidf['key'] = csidf['dir'] + '_' + csidf['db'] + '_' + csidf['move'] + '_' + csidf['obj'] + '_' + csidf['light'] + '_' + csidf['angle'] + '_' + csidf['site']\n",
    "\n",
    "import os\n",
    "csidf['size'] = csidf['csiori'].apply(lambda x: os.path.getsize(x))\n",
    "csidf = csidf[csidf['size'] > 2800000]\n",
    "\n",
    "csidf"
   ]
  },
  {
   "cell_type": "code",
   "execution_count": null,
   "metadata": {},
   "outputs": [],
   "source": []
  }
 ],
 "metadata": {
  "kernelspec": {
   "display_name": "falldewideo",
   "language": "python",
   "name": "python3"
  },
  "language_info": {
   "codemirror_mode": {
    "name": "ipython",
    "version": 3
   },
   "file_extension": ".py",
   "mimetype": "text/x-python",
   "name": "python",
   "nbconvert_exporter": "python",
   "pygments_lexer": "ipython3",
   "version": "3.9.17"
  },
  "orig_nbformat": 4
 },
 "nbformat": 4,
 "nbformat_minor": 2
}
